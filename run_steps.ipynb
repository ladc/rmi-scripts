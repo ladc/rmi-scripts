{
 "cells": [
  {
   "cell_type": "markdown",
   "id": "803cdc35",
   "metadata": {},
   "source": [
    "Load the modules"
   ]
  },
  {
   "cell_type": "code",
   "execution_count": 13,
   "id": "5005b314",
   "metadata": {
    "ExecuteTime": {
     "end_time": "2024-07-15T21:19:51.718256Z",
     "start_time": "2024-07-15T21:19:51.710497Z"
    }
   },
   "outputs": [],
   "source": [
    "import os\n",
    "import datetime\n",
    "import numpy as np\n",
    "import matplotlib.pyplot as plt\n",
    "import pysteps"
   ]
  },
  {
   "cell_type": "markdown",
   "id": "75f14fb5",
   "metadata": {},
   "source": [
    "\n",
    "import netCDF4Set the commandline arguments, default argumets and directories"
   ]
  },
  {
   "cell_type": "markdown",
   "source": [],
   "metadata": {
    "collapsed": false
   },
   "id": "5514518246e8b319"
  },
  {
   "cell_type": "code",
   "execution_count": 14,
   "id": "524f8877",
   "metadata": {
    "ExecuteTime": {
     "end_time": "2024-07-15T21:19:51.878350Z",
     "start_time": "2024-07-15T21:19:51.843183Z"
    }
   },
   "outputs": [
    {
     "name": "stdout",
     "output_type": "stream",
     "text": [
      "Started nowcast with:\n",
      " Startdate: 2021-07-04 16:00\n",
      " Forecast length: 12 timesteps\n",
      " Number of ensemble members: 2\n",
      " Number of workers: 4\n",
      " Rain/No-rain threshold: 0.10\n",
      " Number of cascade levels: 6\n",
      " Motion vectors are loaded from: ../hackathon_testdata/nwp/20210704\n",
      " Cascade decompositions are loaded from: ../hackathon_testdata/nwp/20210704\n",
      " NWP skill is saved in: ../skill\n",
      " Nowcast netCDF file is saved in: ../nwc\n"
     ]
    }
   ],
   "source": [
    "# Settings\n",
    "startdate_str = \"202107041600\"\n",
    "startdate = datetime.datetime.strptime(startdate_str,\"%Y%m%d%H%M\")\n",
    "\n",
    "# Length of the forecast in timesteps (12 timesteps of 5 minutes each = 1 hour forecast)\n",
    "fc_length = 12\n",
    "# Number of ensemble members\n",
    "nens = 2\n",
    "# Number of workers\n",
    "ncores = 4\n",
    "\n",
    "# Default parameters\n",
    "# Rain/No-rain threshold\n",
    "threshold = 0.1 \n",
    "# Number of cascade levels\n",
    "ncascade = 6\n",
    "\n",
    "# Directories\n",
    "dir_base = \"..\" # change me - this is the dir that contains the hackathon_testdata directory and where the output will be written\n",
    "dir_cascade = os.path.join(dir_base,f'hackathon_testdata/nwp/',startdate.strftime('%Y%m%d'))\n",
    "dir_motion = dir_cascade\n",
    "dir_skill = os.path.join(dir_base,'skill')\n",
    "dir_gif = os.path.join(dir_base,'gifs')\n",
    "dir_nwc = os.path.join(dir_base,'nwc')\n",
    "os.makedirs(dir_nwc,exist_ok=True)\n",
    "os.makedirs(dir_gif,exist_ok=True)\n",
    "\n",
    "# Hard-coding some paths here to avoid potential pystepsrc issues.\n",
    "data_src_radar = \"rmi\"\n",
    "root_path = os.path.join(dir_base,'hackathon_testdata/radar') # pysteps.rcparams.data_sources[data_src_radar][\"root_path\"]\n",
    "path_fmt = f'%Y%m%d' #pysteps.rcparams.data_sources[data_src_radar][\"path_fmt\"]\n",
    "# BEWARE! This is not fixed in time. More recent radqpe files may have a different filename pattern.\n",
    "fn_pattern = '%Y%m%d%H%M%S.rad.best.comp.rate.qpe' #pysteps.rcparams.data_sources[data_src_radar][\"fn_pattern\"]\n",
    "fn_ext = 'hdf' #pysteps.rcparams.data_sources[data_src_radar][\"fn_ext\"]\n",
    "importer_name = pysteps.rcparams.data_sources[data_src_radar][\"importer\"]\n",
    "importer_kwargs = pysteps.rcparams.data_sources[data_src_radar][\"importer_kwargs\"]\n",
    "timestep = pysteps.rcparams.data_sources[data_src_radar][\"timestep\"]\n",
    "\n",
    "print(\"Started nowcast with:\")\n",
    "print(r' Startdate: %s' % startdate.strftime(\"%Y-%m-%d %H:%M\"))\n",
    "print(r' Forecast length: %i timesteps' % fc_length)\n",
    "print(r' Number of ensemble members: %i' % nens)\n",
    "print(r' Number of workers: %i' % ncores)\n",
    "print(r' Rain/No-rain threshold: %.2f' % threshold)\n",
    "print(r' Number of cascade levels: %i' % ncascade)\n",
    "print(r' Motion vectors are loaded from: %s' % dir_motion)\n",
    "print(r' Cascade decompositions are loaded from: %s' % dir_cascade)\n",
    "print(r' NWP skill is saved in: %s' % dir_skill)\n",
    "print(r' Nowcast netCDF file is saved in: %s' % dir_nwc)\n",
    "print('')"
   ]
  },
  {
   "cell_type": "markdown",
   "id": "263e8d44",
   "metadata": {},
   "source": [
    "Load and preprocess the radar data"
   ]
  },
  {
   "cell_type": "code",
   "execution_count": 15,
   "id": "b84bc668",
   "metadata": {
    "ExecuteTime": {
     "end_time": "2024-07-15T21:19:55.446523Z",
     "start_time": "2024-07-15T21:19:51.884745Z"
    }
   },
   "outputs": [
    {
     "name": "stdout",
     "output_type": "stream",
     "text": [
      "Loading and preprocessing radar analysis...\n",
      "done!\n"
     ]
    }
   ],
   "source": [
    "print('Loading and preprocessing radar analysis...')\n",
    "fn_radar = pysteps.io.find_by_date(\n",
    "        date = startdate,\n",
    "        root_path = root_path,\n",
    "        path_fmt = path_fmt,\n",
    "        fn_pattern = fn_pattern,\n",
    "        fn_ext = fn_ext,\n",
    "        timestep = timestep,\n",
    "        num_prev_files = 2\n",
    ")\n",
    "\n",
    "# Reading the radar hdf5 files with the appropriate importer\n",
    "importer_radar = pysteps.io.get_method(importer_name,\"importer\")\n",
    "r_radar, _, metadata_radar = pysteps.io.read_timeseries(\n",
    "        inputfns = fn_radar,\n",
    "        importer = importer_radar,\n",
    "        legacy=False\n",
    ")\n",
    "\n",
    "metadata_nwc = metadata_radar.copy()\n",
    "metadata_nwc['shape'] = r_radar.shape[1:]\n",
    "\n",
    "# 4. Prepare the radar analyses\n",
    "converter = pysteps.utils.get_method(\"mm/h\")\n",
    "r_radar, metadata_radar = converter(r_radar,metadata_radar)\n",
    "\n",
    "r_radar[r_radar < threshold] = 0.0\n",
    "metadata_radar[\"threshold\"] = threshold\n",
    "\n",
    "r_obs = r_radar[-1,:,:].copy()\n",
    "metadata_obs = metadata_radar.copy()\n",
    "\n",
    "transformer = pysteps.utils.get_method(\"dB\")\n",
    "r_radar, metadata_radar = transformer(\n",
    "        R = r_radar,\n",
    "        metadata = metadata_radar,\n",
    "        threshold = threshold,\n",
    "#        zerovalue=-10.0\n",
    ")\n",
    "\n",
    "# Determine optical flow field with Lukas-Kanade\n",
    "oflow_method = pysteps.motion.get_method(\"LK\")\n",
    "v_radar = oflow_method(r_radar)\n",
    "print('done!')"
   ]
  },
  {
   "cell_type": "markdown",
   "id": "a7028004",
   "metadata": {},
   "source": [
    "Get the available NWP dates, select the closest one and load the velocities and cascade"
   ]
  },
  {
   "cell_type": "code",
   "execution_count": 16,
   "id": "bcb15716",
   "metadata": {
    "ExecuteTime": {
     "end_time": "2024-07-15T21:20:03.345299Z",
     "start_time": "2024-07-15T21:19:55.449323Z"
    }
   },
   "outputs": [
    {
     "name": "stdout",
     "output_type": "stream",
     "text": [
      "Loading NWP cascade and velocities for run started at 2021-07-04 16:05...\n",
      "done!\n"
     ]
    }
   ],
   "source": [
    "fcsttimes_nwp = []\n",
    "for file in os.listdir(dir_motion):\n",
    "    fcsttimes_nwp.append(\n",
    "            datetime.datetime.strptime(file.split(\"_\")[2].split('.')[0],'%Y%m%d%H%M%S')\n",
    "    )\n",
    "\n",
    "startdate_nwp = startdate + datetime.timedelta(minutes=timestep)\n",
    "date_nwp = startdate_nwp + max([nwptime - startdate_nwp for nwptime in fcsttimes_nwp if nwptime <= startdate_nwp]) \n",
    "\n",
    "model='ao13'\n",
    "fn_motion = os.path.join(dir_motion,\n",
    "        r'motion_%s_%s.npy' % (model,date_nwp.strftime('%Y%m%d%H%M%S'))\n",
    ")\n",
    "fn_cascade = os.path.join(dir_cascade,\n",
    "        r'cascade_%s_%s.nc' % (model,date_nwp.strftime('%Y%m%d%H%M%S'))\n",
    ")\n",
    "\n",
    "if not os.path.exists(fn_cascade):\n",
    "    raise Exception('Cascade file %s accompanying motion file %s does not exist' % (fn_cascade,fn_motion))\n",
    "print(r'Loading NWP cascade and velocities for run started at %s...' % date_nwp.strftime('%Y-%m-%d %H:%M'))\n",
    "r_decomposed_nwp, v_nwp = pysteps.blending.utils.load_NWP(\n",
    "        input_nc_path_decomp = fn_cascade,\n",
    "        input_path_velocities = fn_motion,\n",
    "        start_time=np.datetime64(startdate_nwp), \n",
    "        n_timesteps=fc_length\n",
    ")\n",
    "\n",
    "# 5.bis Make sure the NWP cascade and velocity fields have an extra 'n_models' dimension\n",
    "r_decomposed_nwp = np.stack([r_decomposed_nwp])\n",
    "v_nwp = np.stack([v_nwp])\n",
    "print('done!')"
   ]
  },
  {
   "cell_type": "markdown",
   "id": "ff8c927a",
   "metadata": {},
   "source": [
    "Prepare the netCDF exporter-function"
   ]
  },
  {
   "cell_type": "code",
   "execution_count": 17,
   "id": "6416b3d8",
   "metadata": {
    "ExecuteTime": {
     "end_time": "2024-07-15T21:20:03.996588Z",
     "start_time": "2024-07-15T21:20:03.347570Z"
    }
   },
   "outputs": [
    {
     "name": "stdout",
     "output_type": "stream",
     "text": [
      "unknown projection lcc\n"
     ]
    }
   ],
   "source": [
    "def write_netCDF(R):\n",
    "    R, _ = converter(R, metadata_radar)\n",
    "    pysteps.io.export_forecast_dataset(R, exporter)\n",
    "\n",
    "exporter = pysteps.io.initialize_forecast_exporter_netcdf(\n",
    "        outpath = dir_nwc,\n",
    "        outfnprefix = 'blended_nowcast_%s' % startdate.strftime(\"%Y%m%d%H%M\"),\n",
    "        startdate = startdate_nwp,\n",
    "        timestep = timestep,\n",
    "        n_timesteps = fc_length,\n",
    "        shape = metadata_nwc['shape'],\n",
    "        n_ens_members = nens,\n",
    "        metadata = metadata_nwc,\n",
    "        incremental = 'timestep'\n",
    ")"
   ]
  },
  {
   "cell_type": "markdown",
   "id": "e4939623",
   "metadata": {},
   "source": [
    "Start the nowcast"
   ]
  },
  {
   "cell_type": "code",
   "execution_count": 18,
   "id": "f4db39d0",
   "metadata": {
    "ExecuteTime": {
     "end_time": "2024-07-15T21:20:57.096101Z",
     "start_time": "2024-07-15T21:20:04.000503Z"
    }
   },
   "outputs": [
    {
     "name": "stdout",
     "output_type": "stream",
     "text": [
      "STEPS blending\n",
      "==============\n",
      "\n",
      "Inputs\n",
      "------\n",
      "forecast issue time:         2021-07-04T16:00:00\n",
      "input dimensions:            700x700\n",
      "km/pixel:                    1.0\n",
      "time step:                   5 minutes\n",
      "\n",
      "NWP and blending inputs\n",
      "-----------------------\n",
      "number of (NWP) models:      1\n",
      "blend (NWP) model members:   False\n",
      "decompose (NWP) models:      no\n",
      "\n",
      "Methods\n",
      "-------\n",
      "extrapolation:               semilagrangian\n",
      "bandpass filter:             gaussian\n",
      "decomposition:               fft\n",
      "noise generator:             nonparametric\n",
      "noise adjustment:            yes\n",
      "velocity perturbator:        None\n",
      "blending weights method:     bps\n",
      "conditional statistics:      no\n",
      "precip. mask method:         incremental\n",
      "probability matching:        cdf\n",
      "FFT method:                  numpy\n",
      "domain:                      spatial\n",
      "\n",
      "Parameters\n",
      "----------\n",
      "number of time steps:        12\n",
      "ensemble size:               2\n",
      "parallel threads:            4\n",
      "number of cascade levels:    6\n",
      "order of the AR(p) model:    2\n",
      "precip. intensity threshold: -10.0\n",
      "no-rain fraction threshold for radar: 0.0\n",
      "Rain fraction is: 0.1620673469387755, while minimum fraction is 0.0\n",
      "Rain fraction is: 0.16555510204081633, while minimum fraction is 0.0\n",
      "Computing noise adjustment coefficients... done.\n",
      "noise std. dev. coeffs:   [1.05401584 1.21945115 1.05127805 1.03097692 0.91801558 0.77541017]\n",
      "************************************************\n",
      "* Correlation coefficients for cascade levels: *\n",
      "************************************************\n",
      "-----------------------------------------\n",
      "| Level |     Lag-1     |     Lag-2     |\n",
      "-----------------------------------------\n",
      "| 1     | 0.998869      | 0.998292      |\n",
      "-----------------------------------------\n",
      "| 2     | 0.996868      | 0.989310      |\n",
      "-----------------------------------------\n",
      "| 3     | 0.985319      | 0.953198      |\n",
      "-----------------------------------------\n",
      "| 4     | 0.942087      | 0.849975      |\n",
      "-----------------------------------------\n",
      "| 5     | 0.736077      | 0.522626      |\n",
      "-----------------------------------------\n",
      "| 6     | 0.099297      | 0.005736      |\n",
      "-----------------------------------------\n",
      "****************************************\n",
      "* AR(p) parameters for cascade levels: *\n",
      "****************************************\n",
      "------------------------------------------------------\n",
      "| Level |    Phi-1     |    Phi-2     |    Phi-0     |\n",
      "------------------------------------------------------\n",
      "| 1     | 0.754524     | 0.244622     | 0.046106     |\n",
      "------------------------------------------------------\n",
      "| 2     | 1.703651     | -0.709005    | 0.055774     |\n",
      "------------------------------------------------------\n",
      "| 3     | 1.582140     | -0.605714    | 0.135843     |\n",
      "------------------------------------------------------\n",
      "| 4     | 1.256636     | -0.333886    | 0.316124     |\n",
      "------------------------------------------------------\n",
      "| 5     | 0.766893     | -0.041866    | 0.676305     |\n",
      "------------------------------------------------------\n",
      "| 6     | 0.099543     | -0.002477    | 0.995055     |\n",
      "------------------------------------------------------\n",
      "Starting blended nowcast computation.\n",
      "Computing nowcast for time step 1... done.\n",
      "Computing nowcast for time step 2... done.\n",
      "Computing nowcast for time step 3... done.\n",
      "Computing nowcast for time step 4... done.\n",
      "Computing nowcast for time step 5... done.\n",
      "Computing nowcast for time step 6... done.\n",
      "Computing nowcast for time step 7... done.\n",
      "Computing nowcast for time step 8... done.\n",
      "Computing nowcast for time step 9... done.\n",
      "Computing nowcast for time step 10... done.\n",
      "Computing nowcast for time step 11... done.\n",
      "Computing nowcast for time step 12... done.\n",
      "nowcast done!\n"
     ]
    }
   ],
   "source": [
    "nwc_method = pysteps.blending.get_method(\"steps\")\n",
    "r_nwc = nwc_method(\n",
    "        precip = r_radar,\n",
    "        precip_models = r_decomposed_nwp,\n",
    "        velocity = v_radar,\n",
    "        velocity_models = v_nwp,\n",
    "        timesteps = fc_length,\n",
    "        timestep = timestep,\n",
    "        issuetime = startdate,\n",
    "        n_ens_members = nens,\n",
    "        n_cascade_levels = ncascade,\n",
    "        blend_nwp_members = False,\n",
    "        precip_thr = metadata_radar['threshold'],\n",
    "        kmperpixel = metadata_radar['xpixelsize']/1000.0,\n",
    "        extrap_method = 'semilagrangian',\n",
    "        decomp_method = 'fft',\n",
    "        bandpass_filter_method = 'gaussian',\n",
    "        noise_method = 'nonparametric',\n",
    "        noise_stddev_adj = 'auto',\n",
    "        ar_order = 2,\n",
    "        vel_pert_method = None,\n",
    "        weights_method = 'bps',\n",
    "        conditional = False,\n",
    "        probmatching_method = 'cdf',\n",
    "        mask_method = 'incremental',\n",
    "        callback = write_netCDF,\n",
    "        return_output = True,\n",
    "        seed = 24,\n",
    "        num_workers = ncores,\n",
    "        fft_method = 'numpy',\n",
    "        domain = 'spatial',\n",
    "        outdir_path_skill = dir_skill,\n",
    "        extrap_kwargs = None,\n",
    "        filter_kwargs = None,\n",
    "        noise_kwargs = None,\n",
    "        vel_pert_kwargs = None,\n",
    "        clim_kwargs = None,\n",
    "        mask_kwargs = None,\n",
    "        measure_time = False\n",
    ")\n",
    "\n",
    "r_nwc, metadata_nwc = transformer(\n",
    "        R = r_nwc,\n",
    "        threshold = -10,\n",
    "        inverse = True\n",
    ")\n",
    "\n",
    "pysteps.io.close_forecast_files(exporter)\n",
    "print(\"nowcast done!\")"
   ]
  },
  {
   "cell_type": "markdown",
   "id": "18ce7305",
   "metadata": {},
   "source": [
    "Plot the results"
   ]
  },
  {
   "cell_type": "code",
   "execution_count": 19,
   "id": "259c9bb1",
   "metadata": {
    "ExecuteTime": {
     "end_time": "2024-07-15T21:20:57.121907Z",
     "start_time": "2024-07-15T21:20:57.101544Z"
    }
   },
   "outputs": [
    {
     "data": {
      "text/plain": "(2, 12, 700, 700)"
     },
     "execution_count": 19,
     "metadata": {},
     "output_type": "execute_result"
    }
   ],
   "source": [
    "r_nwc.shape"
   ]
  },
  {
   "cell_type": "code",
   "execution_count": 20,
   "id": "1ff0a09f",
   "metadata": {
    "ExecuteTime": {
     "end_time": "2024-07-15T21:20:57.149765Z",
     "start_time": "2024-07-15T21:20:57.126462Z"
    }
   },
   "outputs": [],
   "source": [
    "from pysteps.visualization import plot_precip_field\n",
    "from ipywidgets import interactive\n",
    "from ipywidgets import Layout, interact, IntSlider, FloatSlider\n",
    "def plotter(t=0,member=0):\n",
    "    if t==0:\n",
    "        data = r_obs\n",
    "    else:\n",
    "        data = r_nwc[member,t-1,:,:]\n",
    "    fig = plt.figure(figsize=(10,10))\n",
    "    plot_precip_field(data,\n",
    "                      geodata=metadata_obs,\n",
    "                      colorscale=\"STEPS-BE\",\n",
    "                      title=\"Blended nowcast for %s + %i min\" % (startdate.strftime('%Y-%m-%d %H:%M'), (t)*5),\n",
    "                     )\n",
    "    plt.tight_layout()\n",
    "    plt.show()\n",
    "    "
   ]
  },
  {
   "cell_type": "code",
   "execution_count": 21,
   "id": "2308ccfc",
   "metadata": {
    "ExecuteTime": {
     "end_time": "2024-07-15T21:20:57.180228Z",
     "start_time": "2024-07-15T21:20:57.154180Z"
    }
   },
   "outputs": [],
   "source": [
    "def plotter2(t=0):\n",
    "    fig = plt.figure(figsize=(18,10))\n",
    "    fig.add_subplot(1,2,1)\n",
    "    plot_precip_field(r_blend[t,:,:],\n",
    "                      geodata=meta_output,\n",
    "                      colorscale=\"STEPS-BE\",\n",
    "                      title=f\"Blended nowcast for {meta_output['timestamps'][-1]} + {t*5} min\"\n",
    "                     )\n",
    "    fig.add_subplot(1,2,2)\n",
    "    plot_precip_field(r_nwc[t,:,:],\n",
    "                      geodata=meta_output,\n",
    "                      colorscale=\"STEPS-BE\",\n",
    "                      title=f\"Non-blended nowcast for {meta_output['timestamps'][-1]} + {t*5} min\"\n",
    "                     )\n",
    "    plt.tight_layout()\n",
    "    plt.show()"
   ]
  },
  {
   "cell_type": "code",
   "execution_count": 22,
   "id": "eb9f2ce9-749f-466f-8afd-cb3509577adb",
   "metadata": {
    "ExecuteTime": {
     "end_time": "2024-07-15T21:20:58.425756Z",
     "start_time": "2024-07-15T21:20:57.184709Z"
    }
   },
   "outputs": [
    {
     "data": {
      "text/plain": "interactive(children=(IntSlider(value=0, description='t', max=11), Dropdown(description='member', options=(0, …",
      "application/vnd.jupyter.widget-view+json": {
       "version_major": 2,
       "version_minor": 0,
       "model_id": "874efabf1f5d4c52bb0d053731896523"
      }
     },
     "execution_count": 22,
     "metadata": {},
     "output_type": "execute_result"
    }
   ],
   "source": [
    "interactive_pcp = interactive(plotter,t=IntSlider(0, 0, r_nwc.shape[1]-1, 1),member=list(range(r_nwc.shape[0])))\n",
    "interactive_pcp"
   ]
  },
  {
   "cell_type": "code",
   "outputs": [],
   "source": [],
   "metadata": {
    "collapsed": false,
    "ExecuteTime": {
     "end_time": "2024-07-15T21:20:58.430603Z",
     "start_time": "2024-07-15T21:20:58.427447Z"
    }
   },
   "id": "3de3f069123a3b68",
   "execution_count": 22
  },
  {
   "cell_type": "code",
   "outputs": [],
   "source": [],
   "metadata": {
    "collapsed": false,
    "ExecuteTime": {
     "end_time": "2024-07-15T21:20:58.440006Z",
     "start_time": "2024-07-15T21:20:58.435512Z"
    }
   },
   "id": "f4be4e2a413a6a01",
   "execution_count": 22
  }
 ],
 "metadata": {
  "kernelspec": {
   "display_name": "Python 3 (ipykernel)",
   "language": "python",
   "name": "python3"
  },
  "language_info": {
   "codemirror_mode": {
    "name": "ipython",
    "version": 3
   },
   "file_extension": ".py",
   "mimetype": "text/x-python",
   "name": "python",
   "nbconvert_exporter": "python",
   "pygments_lexer": "ipython3",
   "version": "3.10.12"
  }
 },
 "nbformat": 4,
 "nbformat_minor": 5
}
