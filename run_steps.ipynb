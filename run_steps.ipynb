{
 "cells": [
  {
   "cell_type": "markdown",
   "id": "803cdc35",
   "metadata": {},
   "source": [
    "Load the modules"
   ]
  },
  {
   "cell_type": "code",
   "execution_count": 1,
   "id": "5005b314",
   "metadata": {},
   "outputs": [
    {
     "name": "stdout",
     "output_type": "stream",
     "text": [
      "Pysteps configuration file found at: /home/mpvginde/pylibs/pysteps/pysteps/pystepsrc\n",
      "\n"
     ]
    }
   ],
   "source": [
    "import os\n",
    "import datetime\n",
    "import netCDF4\n",
    "import numpy as np\n",
    "import pprint\n",
    "import sys\n",
    "import time\n",
    "import matplotlib.pyplot as plt\n",
    "import imageio\n",
    "import dask\n",
    "import pysteps"
   ]
  },
  {
   "cell_type": "markdown",
   "id": "75f14fb5",
   "metadata": {},
   "source": [
    "Set the commandline arguments, default argumets and directories"
   ]
  },
  {
   "cell_type": "code",
   "execution_count": 2,
   "id": "524f8877",
   "metadata": {},
   "outputs": [
    {
     "name": "stdout",
     "output_type": "stream",
     "text": [
      "Started nowcast with:\n",
      " Startdate: 2021-07-24 12:00\n",
      " Forecast length: 12 timesteps\n",
      " Number of ensemble members: 2\n",
      " Number of workers: 4\n",
      " Rain/No-rain threshold: 0.10\n",
      " Number of cascade levels: 8\n",
      " Motion vectors are loaded from: /home/mpvginde/hackaton/nwp/flooding/20210724\n",
      " Cascade decompositions are loaded from: /home/mpvginde/hackaton/nwp/flooding/20210724\n",
      " NWP skill is saved in: /home/mpvginde/hackaton/skill\n",
      " Nowcast netCDF file is saved in: /home/mpvginde/hackaton/nwc\n",
      "\n"
     ]
    }
   ],
   "source": [
    "# Commandline\n",
    "startdate = \"202107241200\"\n",
    "startdate = datetime.datetime.strptime(startdate,\"%Y%m%d%H%M\")\n",
    "fc_length = 12\n",
    "nens = 2\n",
    "ncores = 4\n",
    "casetype = 'flooding'\n",
    "\n",
    "# Defaults\n",
    "threshold = 0.1\n",
    "ncascade = 8\n",
    "\n",
    "# Directories\n",
    "dir_base = \"/home/mpvginde/hackaton/\" # change me\n",
    "dir_cascade = os.path.join(dir_base,f'nwp/{casetype}',startdate.strftime('%Y%m%d'))\n",
    "dir_motion = dir_cascade\n",
    "dir_skill = os.path.join(dir_base,'skill')\n",
    "dir_gif = os.path.join(dir_base,'gifs')\n",
    "dir_nwc = os.path.join(dir_base,'nwc')\n",
    "os.makedirs(dir_nwc,exist_ok=True)\n",
    "os.makedirs(dir_gif,exist_ok=True)\n",
    "\n",
    "data_src_radar = \"rmi\"\n",
    "data_src_nwp = \"rmi_nwp\"\n",
    "\n",
    "root_path = os.path.join(dir_base,'radar') #pysteps.rcparams.data_sources[data_src_radar][\"root_path\"]\n",
    "path_fmt = f'{casetype}/%Y%m%d' #pysteps.rcparams.data_sources[data_src_radar][\"path_fmt\"]\n",
    "fn_pattern = '%Y%m%d%H%M%S.rad.bhbjbwdnfa.comp.rate.qpe2' #pysteps.rcparams.data_sources[data_src_radar][\"fn_pattern\"]\n",
    "fn_ext = 'hdf' #pysteps.rcparams.data_sources[data_src_radar][\"fn_ext\"]\n",
    "importer_name = pysteps.rcparams.data_sources[data_src_radar][\"importer\"]\n",
    "importer_kwargs = pysteps.rcparams.data_sources[data_src_radar][\"importer_kwargs\"]\n",
    "timestep = pysteps.rcparams.data_sources[data_src_radar][\"timestep\"]\n",
    "\n",
    "print(\"Started nowcast with:\")\n",
    "print(r' Startdate: %s' % startdate.strftime(\"%Y-%m-%d %H:%M\"))\n",
    "print(r' Forecast length: %i timesteps' % fc_length)\n",
    "print(r' Number of ensemble members: %i' % nens)\n",
    "print(r' Number of workers: %i' % ncores)\n",
    "print(r' Rain/No-rain threshold: %.2f' % threshold)\n",
    "print(r' Number of cascade levels: %i' % ncascade)\n",
    "print(r' Motion vectors are loaded from: %s' % dir_motion)\n",
    "print(r' Cascade decompositions are loaded from: %s' % dir_cascade)\n",
    "print(r' NWP skill is saved in: %s' % dir_skill)\n",
    "print(r' Nowcast netCDF file is saved in: %s' % dir_nwc)\n",
    "print('')"
   ]
  },
  {
   "cell_type": "markdown",
   "id": "263e8d44",
   "metadata": {},
   "source": [
    "Load and preprocess the radar data"
   ]
  },
  {
   "cell_type": "code",
   "execution_count": 16,
   "id": "b84bc668",
   "metadata": {},
   "outputs": [
    {
     "name": "stdout",
     "output_type": "stream",
     "text": [
      "Loading and preprocessing radar analysis...\n",
      "done!\n"
     ]
    }
   ],
   "source": [
    "print('Loading and preprocessing radar analysis...')\n",
    "fn_radar = pysteps.io.find_by_date(\n",
    "        date = startdate,\n",
    "        root_path = root_path,\n",
    "        path_fmt = path_fmt,\n",
    "        fn_pattern = fn_pattern,\n",
    "        fn_ext = fn_ext,\n",
    "        timestep = timestep,\n",
    "        num_prev_files = 2\n",
    ")\n",
    "\n",
    "importer_radar = pysteps.io.get_method(importer_name,\"importer\")\n",
    "r_radar, _, metadata_radar = pysteps.io.read_timeseries(\n",
    "        inputfns = fn_radar,\n",
    "        importer = importer_radar,\n",
    "        legacy=False\n",
    ")\n",
    "\n",
    "metadata_nwc = metadata_radar.copy()\n",
    "metadata_nwc['shape'] = r_radar.shape[1:]\n",
    "\n",
    "# 4. Prepare the radar analyses\n",
    "converter = pysteps.utils.get_method(\"mm/h\")\n",
    "r_radar, metadata_radar = converter(r_radar,metadata_radar)\n",
    "\n",
    "r_radar[r_radar < threshold] = 0.0\n",
    "metadata_radar[\"threshold\"] = threshold\n",
    "\n",
    "r_obs = r_radar[-1,:,:].copy()\n",
    "metadata_obs = metadata_radar.copy()\n",
    "\n",
    "transformer = pysteps.utils.get_method(\"dB\")\n",
    "r_radar, metadata_radar = transformer(\n",
    "        R = r_radar,\n",
    "        metadata = metadata_radar,\n",
    "        threshold = threshold,\n",
    "#        zerovalue=-10.0\n",
    ")\n",
    "\n",
    "oflow_method = pysteps.motion.get_method(\"LK\")\n",
    "v_radar = oflow_method(r_radar)\n",
    "print('done!')"
   ]
  },
  {
   "cell_type": "markdown",
   "id": "a7028004",
   "metadata": {},
   "source": [
    "Get the available NWP dates, select the closest one and load the velocities and cascade"
   ]
  },
  {
   "cell_type": "code",
   "execution_count": 4,
   "id": "bcb15716",
   "metadata": {},
   "outputs": [
    {
     "name": "stdout",
     "output_type": "stream",
     "text": [
      "Loading NWP cascade and velocities for run started at 2021-07-24 08:05...\n",
      "done!\n"
     ]
    }
   ],
   "source": [
    "fcsttimes_nwp = []\n",
    "for file in os.listdir(dir_motion):\n",
    "    fcsttimes_nwp.append(\n",
    "            datetime.datetime.strptime(file.split(\"_\")[2].split('.')[0],'%Y%m%d%H%M%S')\n",
    "    )\n",
    "\n",
    "startdate_nwp = startdate + datetime.timedelta(minutes=timestep)\n",
    "date_nwp = startdate_nwp + max([nwptime - startdate_nwp for nwptime in fcsttimes_nwp if nwptime <= startdate_nwp]) \n",
    "\n",
    "model='ao13'\n",
    "fn_motion = os.path.join(dir_motion,\n",
    "        r'motion_%s_%s.npy' % (model,date_nwp.strftime('%Y%m%d%H%M%S'))\n",
    ")\n",
    "fn_cascade = os.path.join(dir_cascade,\n",
    "        r'cascade_%s_%s.nc' % (model,date_nwp.strftime('%Y%m%d%H%M%S'))\n",
    ")\n",
    "\n",
    "if not os.path.exists(fn_cascade):\n",
    "    raise Exception('Cascade file %s accompanying motion file %s does not exist' % (fn_cascade,fn_motion))\n",
    "print(r'Loading NWP cascade and velocities for run started at %s...' % date_nwp.strftime('%Y-%m-%d %H:%M'))\n",
    "r_decomposed_nwp, v_nwp = pysteps.blending.utils.load_NWP(\n",
    "        input_nc_path_decomp = fn_cascade,\n",
    "        input_path_velocities = fn_motion,\n",
    "        start_time=np.datetime64(startdate_nwp), \n",
    "        n_timesteps=fc_length\n",
    ")\n",
    "\n",
    "# 5.bis Make sure the NWP cascade and velocity fields have an extra 'n_models' dimension\n",
    "r_decomposed_nwp = np.stack([r_decomposed_nwp])\n",
    "v_nwp = np.stack([v_nwp])\n",
    "print('done!')"
   ]
  },
  {
   "cell_type": "markdown",
   "id": "ff8c927a",
   "metadata": {},
   "source": [
    "Prepare the netCDF exporter-function"
   ]
  },
  {
   "cell_type": "code",
   "execution_count": 5,
   "id": "6416b3d8",
   "metadata": {},
   "outputs": [
    {
     "name": "stdout",
     "output_type": "stream",
     "text": [
      "unknown projection lcc\n"
     ]
    }
   ],
   "source": [
    "def write_netCDF(R):\n",
    "    R, _ = converter(R, metadata_radar)\n",
    "    pysteps.io.export_forecast_dataset(R, exporter)\n",
    "\n",
    "exporter = pysteps.io.initialize_forecast_exporter_netcdf(\n",
    "        outpath = dir_nwc,\n",
    "        outfnprefix = 'blended_nowcast_%s' % startdate.strftime(\"%Y%m%d%H%M\"),\n",
    "        startdate = startdate_nwp,\n",
    "        timestep = timestep,\n",
    "        n_timesteps = fc_length,\n",
    "        shape = metadata_nwc['shape'],\n",
    "        n_ens_members = nens,\n",
    "        metadata = metadata_nwc,\n",
    "        incremental = 'timestep'\n",
    ")"
   ]
  },
  {
   "cell_type": "markdown",
   "id": "e4939623",
   "metadata": {},
   "source": [
    "Start the nowcast"
   ]
  },
  {
   "cell_type": "code",
   "execution_count": 6,
   "id": "f4db39d0",
   "metadata": {},
   "outputs": [
    {
     "name": "stdout",
     "output_type": "stream",
     "text": [
      "STEPS blending\n",
      "==============\n",
      "\n",
      "Inputs\n",
      "------\n",
      "forecast issue time:         2021-07-24T12:00:00\n",
      "input dimensions:            700x700\n",
      "km/pixel:                    1.0\n",
      "time step:                   5 minutes\n",
      "\n",
      "NWP and blending inputs\n",
      "-----------------------\n",
      "number of (NWP) models:      1\n",
      "blend (NWP) model members:   False\n",
      "decompose (NWP) models:      no\n",
      "\n",
      "Methods\n",
      "-------\n",
      "extrapolation:               semilagrangian\n",
      "bandpass filter:             gaussian\n",
      "decomposition:               fft\n",
      "noise generator:             nonparametric\n",
      "noise adjustment:            yes\n",
      "velocity perturbator:        None\n",
      "blending weights method:     bps\n",
      "conditional statistics:      no\n",
      "precip. mask method:         incremental\n",
      "probability matching:        cdf\n",
      "FFT method:                  numpy\n",
      "domain:                      spatial\n",
      "\n",
      "Parameters\n",
      "----------\n",
      "number of time steps:        12\n",
      "ensemble size:               2\n",
      "parallel threads:            4\n",
      "number of cascade levels:    8\n",
      "order of the AR(p) model:    2\n",
      "precip. intensity threshold: -10.0\n",
      "\n",
      "Computing noise adjustment coefficients... done.\n",
      "noise std. dev. coeffs:   [1.26204406 1.40972464 1.18569177 1.09917782 0.97515972 0.92095254\n",
      " 0.81855438 0.79400412]\n",
      "************************************************\n",
      "* Correlation coefficients for cascade levels: *\n",
      "************************************************\n",
      "-----------------------------------------\n",
      "| Level |     Lag-1     |     Lag-2     |\n",
      "-----------------------------------------\n",
      "| 1     | 0.998863      | 0.996405      |\n",
      "-----------------------------------------\n",
      "| 2     | 0.997883      | 0.992757      |\n",
      "-----------------------------------------\n",
      "| 3     | 0.992693      | 0.977471      |\n",
      "-----------------------------------------\n",
      "| 4     | 0.972349      | 0.922599      |\n",
      "-----------------------------------------\n",
      "| 5     | 0.917299      | 0.779831      |\n",
      "-----------------------------------------\n",
      "| 6     | 0.747578      | 0.514161      |\n",
      "-----------------------------------------\n",
      "| 7     | 0.380384      | 0.213900      |\n",
      "-----------------------------------------\n",
      "| 8     | 0.048824      | 0.001785      |\n",
      "-----------------------------------------\n",
      "****************************************\n",
      "* AR(p) parameters for cascade levels: *\n",
      "****************************************\n",
      "------------------------------------------------------\n",
      "| Level |    Phi-1     |    Phi-2     |    Phi-0     |\n",
      "------------------------------------------------------\n",
      "| 1     | 1.579822     | -0.581620    | 0.038780     |\n",
      "------------------------------------------------------\n",
      "| 2     | 1.708496     | -0.712121    | 0.045662     |\n",
      "------------------------------------------------------\n",
      "| 3     | 1.535854     | -0.547159    | 0.101005     |\n",
      "------------------------------------------------------\n",
      "| 4     | 1.379978     | -0.419221    | 0.212020     |\n",
      "------------------------------------------------------\n",
      "| 5     | 1.273699     | -0.388532    | 0.366915     |\n",
      "------------------------------------------------------\n",
      "| 6     | 0.823352     | -0.101359    | 0.660753     |\n",
      "------------------------------------------------------\n",
      "| 7     | 0.349605     | 0.080916     | 0.921796     |\n",
      "------------------------------------------------------\n",
      "| 8     | 0.048854     | -0.000597    | 0.998807     |\n",
      "------------------------------------------------------\n",
      "Starting blended nowcast computation.\n",
      "Computing nowcast for time step 1... done.\n",
      "Computing nowcast for time step 2... done.\n",
      "Computing nowcast for time step 3... done.\n",
      "Computing nowcast for time step 4... done.\n",
      "Computing nowcast for time step 5... done.\n",
      "Computing nowcast for time step 6... done.\n",
      "Computing nowcast for time step 7... done.\n",
      "Computing nowcast for time step 8... done.\n",
      "Computing nowcast for time step 9... done.\n",
      "Computing nowcast for time step 10... done.\n",
      "Computing nowcast for time step 11... done.\n",
      "Computing nowcast for time step 12... done.\n",
      "nowcast done!\n"
     ]
    }
   ],
   "source": [
    "nwc_method = pysteps.blending.get_method(\"steps\")\n",
    "r_nwc = nwc_method(\n",
    "        precip = r_radar,\n",
    "        precip_models = r_decomposed_nwp,\n",
    "        velocity = v_radar,\n",
    "        velocity_models = v_nwp,\n",
    "        timesteps = fc_length,\n",
    "        timestep = timestep,\n",
    "        issuetime = startdate,\n",
    "        n_ens_members = nens,\n",
    "        n_cascade_levels = ncascade,\n",
    "        blend_nwp_members = False,\n",
    "        precip_thr = metadata_radar['threshold'],\n",
    "        kmperpixel = metadata_radar['xpixelsize']/1000.0,\n",
    "        extrap_method = 'semilagrangian',\n",
    "        decomp_method = 'fft',\n",
    "        bandpass_filter_method = 'gaussian',\n",
    "        noise_method = 'nonparametric',\n",
    "        noise_stddev_adj = 'auto',\n",
    "        ar_order = 2,\n",
    "        vel_pert_method = None,\n",
    "        weights_method = 'bps',\n",
    "        conditional = False,\n",
    "        probmatching_method = 'cdf',\n",
    "        mask_method = 'incremental',\n",
    "        callback = write_netCDF,\n",
    "        return_output = True,\n",
    "        seed = 24,\n",
    "        num_workers = ncores,\n",
    "        fft_method = 'numpy',\n",
    "        domain = 'spatial',\n",
    "        outdir_path_skill = dir_skill,\n",
    "        extrap_kwargs = None,\n",
    "        filter_kwargs = None,\n",
    "        noise_kwargs = None,\n",
    "        vel_pert_kwargs = None,\n",
    "        clim_kwargs = None,\n",
    "        mask_kwargs = None,\n",
    "        measure_time = False\n",
    ")\n",
    "\n",
    "r_nwc, metadata_nwc = transformer(\n",
    "        R = r_nwc,\n",
    "        threshold = -10,\n",
    "        inverse = True\n",
    ")\n",
    "\n",
    "pysteps.io.close_forecast_files(exporter)\n",
    "print(\"nowcast done!\")"
   ]
  },
  {
   "cell_type": "markdown",
   "id": "18ce7305",
   "metadata": {},
   "source": [
    "Plot the results"
   ]
  },
  {
   "cell_type": "code",
   "execution_count": 9,
   "id": "259c9bb1",
   "metadata": {},
   "outputs": [
    {
     "data": {
      "text/plain": [
       "(2, 12, 700, 700)"
      ]
     },
     "execution_count": 9,
     "metadata": {},
     "output_type": "execute_result"
    }
   ],
   "source": [
    "r_nwc.shape"
   ]
  },
  {
   "cell_type": "code",
   "execution_count": 17,
   "id": "1ff0a09f",
   "metadata": {},
   "outputs": [
    {
     "data": {
      "application/vnd.jupyter.widget-view+json": {
       "model_id": "ff52428385f3486e9a150d266a5e0396",
       "version_major": 2,
       "version_minor": 0
      },
      "text/plain": [
       "interactive(children=(IntSlider(value=0, description='t', max=11), Dropdown(description='member', options=(0, …"
      ]
     },
     "execution_count": 17,
     "metadata": {},
     "output_type": "execute_result"
    }
   ],
   "source": [
    "from pysteps.visualization import plot_precip_field\n",
    "from ipywidgets import interactive\n",
    "from ipywidgets import Layout, interact, IntSlider, FloatSlider\n",
    "def plotter(t=0,member=0):\n",
    "    if t==0:\n",
    "        data = r_obs\n",
    "    else:\n",
    "        data = r_nwc[member,t-1,:,:]\n",
    "    fig = plt.figure(figsize=(10,10))\n",
    "    plot_precip_field(data,\n",
    "                      geodata=metadata_obs,\n",
    "                      colorscale=\"STEPS-BE\",\n",
    "                      title=\"Blended nowcast for %s + %i min\" % (startdate.strftime('%Y-%m-%d %H:%M'), (t)*5),\n",
    "                     )\n",
    "    plt.tight_layout()\n",
    "    plt.show()\n",
    "    \n",
    "interactive_pcp = interactive(plotter,t=IntSlider(0, 0, r_nwc.shape[1]-1, 1),member=list(range(r_nwc.shape[0])))\n",
    "interactive_pcp"
   ]
  },
  {
   "cell_type": "code",
   "execution_count": null,
   "id": "2308ccfc",
   "metadata": {},
   "outputs": [],
   "source": []
  }
 ],
 "metadata": {
  "kernelspec": {
   "display_name": "Python 3 (ipykernel)",
   "language": "python",
   "name": "python3"
  },
  "language_info": {
   "codemirror_mode": {
    "name": "ipython",
    "version": 3
   },
   "file_extension": ".py",
   "mimetype": "text/x-python",
   "name": "python",
   "nbconvert_exporter": "python",
   "pygments_lexer": "ipython3",
   "version": "3.11.0"
  }
 },
 "nbformat": 4,
 "nbformat_minor": 5
}
